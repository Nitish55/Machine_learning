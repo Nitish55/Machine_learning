{
 "cells": [
  {
   "cell_type": "markdown",
   "metadata": {},
   "source": [
    "Q- se the following to create a PCA object that uses only the first six principal components:\n",
    "pca = PCA(n_components=6,random_state=100)\n",
    "Use this object to fit and transform the data. Use this transformed data in sklearn linear model to predict. What would the mean squared error of this model be (up to two decimal places)?"
   ]
  },
  {
   "cell_type": "code",
   "execution_count": 1,
   "metadata": {},
   "outputs": [],
   "source": [
    "import pandas as pd\n",
    "import numpy as np\n",
    "import seaborn as sns\n",
    "import matplotlib.pyplot as plt"
   ]
  },
  {
   "cell_type": "markdown",
   "metadata": {},
   "source": [
    "### Importing Data"
   ]
  },
  {
   "cell_type": "code",
   "execution_count": 6,
   "metadata": {},
   "outputs": [
    {
     "data": {
      "text/html": [
       "<div>\n",
       "<style scoped>\n",
       "    .dataframe tbody tr th:only-of-type {\n",
       "        vertical-align: middle;\n",
       "    }\n",
       "\n",
       "    .dataframe tbody tr th {\n",
       "        vertical-align: top;\n",
       "    }\n",
       "\n",
       "    .dataframe thead th {\n",
       "        text-align: right;\n",
       "    }\n",
       "</style>\n",
       "<table border=\"1\" class=\"dataframe\">\n",
       "  <thead>\n",
       "    <tr style=\"text-align: right;\">\n",
       "      <th></th>\n",
       "      <th>price</th>\n",
       "      <th>area</th>\n",
       "      <th>bedrooms</th>\n",
       "      <th>bathrooms</th>\n",
       "      <th>stories</th>\n",
       "      <th>mainroad</th>\n",
       "      <th>guestroom</th>\n",
       "      <th>basement</th>\n",
       "      <th>hotwaterheating</th>\n",
       "      <th>airconditioning</th>\n",
       "      <th>parking</th>\n",
       "      <th>prefarea</th>\n",
       "      <th>semi-furnished</th>\n",
       "      <th>unfurnished</th>\n",
       "      <th>areaperbedroom</th>\n",
       "      <th>bbratio</th>\n",
       "    </tr>\n",
       "  </thead>\n",
       "  <tbody>\n",
       "    <tr>\n",
       "      <th>0</th>\n",
       "      <td>5250000</td>\n",
       "      <td>5500</td>\n",
       "      <td>3</td>\n",
       "      <td>2</td>\n",
       "      <td>1</td>\n",
       "      <td>1</td>\n",
       "      <td>0</td>\n",
       "      <td>1</td>\n",
       "      <td>0</td>\n",
       "      <td>0</td>\n",
       "      <td>0</td>\n",
       "      <td>0</td>\n",
       "      <td>1</td>\n",
       "      <td>0</td>\n",
       "      <td>1833.333333</td>\n",
       "      <td>0.666667</td>\n",
       "    </tr>\n",
       "    <tr>\n",
       "      <th>1</th>\n",
       "      <td>4480000</td>\n",
       "      <td>4040</td>\n",
       "      <td>3</td>\n",
       "      <td>1</td>\n",
       "      <td>2</td>\n",
       "      <td>1</td>\n",
       "      <td>0</td>\n",
       "      <td>0</td>\n",
       "      <td>0</td>\n",
       "      <td>0</td>\n",
       "      <td>1</td>\n",
       "      <td>0</td>\n",
       "      <td>1</td>\n",
       "      <td>0</td>\n",
       "      <td>1346.666667</td>\n",
       "      <td>0.333333</td>\n",
       "    </tr>\n",
       "    <tr>\n",
       "      <th>2</th>\n",
       "      <td>3570000</td>\n",
       "      <td>3640</td>\n",
       "      <td>2</td>\n",
       "      <td>1</td>\n",
       "      <td>1</td>\n",
       "      <td>1</td>\n",
       "      <td>0</td>\n",
       "      <td>0</td>\n",
       "      <td>0</td>\n",
       "      <td>0</td>\n",
       "      <td>0</td>\n",
       "      <td>0</td>\n",
       "      <td>0</td>\n",
       "      <td>1</td>\n",
       "      <td>1820.000000</td>\n",
       "      <td>0.500000</td>\n",
       "    </tr>\n",
       "    <tr>\n",
       "      <th>3</th>\n",
       "      <td>2870000</td>\n",
       "      <td>3040</td>\n",
       "      <td>2</td>\n",
       "      <td>1</td>\n",
       "      <td>1</td>\n",
       "      <td>0</td>\n",
       "      <td>0</td>\n",
       "      <td>0</td>\n",
       "      <td>0</td>\n",
       "      <td>0</td>\n",
       "      <td>0</td>\n",
       "      <td>0</td>\n",
       "      <td>0</td>\n",
       "      <td>1</td>\n",
       "      <td>1520.000000</td>\n",
       "      <td>0.500000</td>\n",
       "    </tr>\n",
       "    <tr>\n",
       "      <th>4</th>\n",
       "      <td>3570000</td>\n",
       "      <td>4500</td>\n",
       "      <td>2</td>\n",
       "      <td>1</td>\n",
       "      <td>1</td>\n",
       "      <td>0</td>\n",
       "      <td>0</td>\n",
       "      <td>0</td>\n",
       "      <td>0</td>\n",
       "      <td>0</td>\n",
       "      <td>0</td>\n",
       "      <td>0</td>\n",
       "      <td>0</td>\n",
       "      <td>0</td>\n",
       "      <td>2250.000000</td>\n",
       "      <td>0.500000</td>\n",
       "    </tr>\n",
       "  </tbody>\n",
       "</table>\n",
       "</div>"
      ],
      "text/plain": [
       "     price  area  bedrooms  bathrooms  stories  mainroad  guestroom  basement  \\\n",
       "0  5250000  5500         3          2        1         1          0         1   \n",
       "1  4480000  4040         3          1        2         1          0         0   \n",
       "2  3570000  3640         2          1        1         1          0         0   \n",
       "3  2870000  3040         2          1        1         0          0         0   \n",
       "4  3570000  4500         2          1        1         0          0         0   \n",
       "\n",
       "   hotwaterheating  airconditioning  parking  prefarea  semi-furnished  \\\n",
       "0                0                0        0         0               1   \n",
       "1                0                0        1         0               1   \n",
       "2                0                0        0         0               0   \n",
       "3                0                0        0         0               0   \n",
       "4                0                0        0         0               0   \n",
       "\n",
       "   unfurnished  areaperbedroom   bbratio  \n",
       "0            0     1833.333333  0.666667  \n",
       "1            0     1346.666667  0.333333  \n",
       "2            1     1820.000000  0.500000  \n",
       "3            1     1520.000000  0.500000  \n",
       "4            0     2250.000000  0.500000  "
      ]
     },
     "execution_count": 6,
     "metadata": {},
     "output_type": "execute_result"
    }
   ],
   "source": [
    "df=pd.read_csv(\"newhousing.csv\")\n",
    "df.head()"
   ]
  },
  {
   "cell_type": "markdown",
   "metadata": {},
   "source": [
    "#### checking corealtion"
   ]
  },
  {
   "cell_type": "code",
   "execution_count": 39,
   "metadata": {},
   "outputs": [
    {
     "data": {
      "text/plain": [
       "<AxesSubplot:>"
      ]
     },
     "execution_count": 39,
     "metadata": {},
     "output_type": "execute_result"
    },
    {
     "data": {
      "image/png": "[encoded data removed]",
      "text/plain": [
       "<Figure size 720x576 with 2 Axes>"
      ]
     },
     "metadata": {
      "needs_background": "light"
     },
     "output_type": "display_data"
    }
   ],
   "source": [
    "plt.figure(figsize=(10,8))\n",
    "sns.heatmap(df.corr())"
   ]
  },
  {
   "cell_type": "markdown",
   "metadata": {},
   "source": [
    "#### using corelation function"
   ]
  },
  {
   "cell_type": "code",
   "execution_count": 41,
   "metadata": {},
   "outputs": [],
   "source": [
    "def fndcorr(df,thres):\n",
    "    cols=set()\n",
    "    col_corr=df.corr()\n",
    "    for i in range(len(col_corr)):\n",
    "        for j in range(i):\n",
    "            if col_corr.iloc[i,j]>abs(thres):\n",
    "                colm=col_corr.columns[i]\n",
    "                cols.add(colm)\n",
    "    return cols"
   ]
  },
  {
   "cell_type": "code",
   "execution_count": 42,
   "metadata": {},
   "outputs": [
    {
     "data": {
      "text/plain": [
       "{'areaperbedroom'}"
      ]
     },
     "execution_count": 42,
     "metadata": {},
     "output_type": "execute_result"
    }
   ],
   "source": [
    "fndcorr(df,.8)"
   ]
  },
  {
   "cell_type": "code",
   "execution_count": 43,
   "metadata": {},
   "outputs": [
    {
     "data": {
      "text/plain": [
       "price              0.244809\n",
       "area               0.805610\n",
       "bedrooms          -0.397259\n",
       "bathrooms         -0.052352\n",
       "stories           -0.178942\n",
       "mainroad           0.249829\n",
       "guestroom          0.054312\n",
       "basement          -0.017034\n",
       "hotwaterheating   -0.021634\n",
       "airconditioning    0.096830\n",
       "parking            0.224387\n",
       "prefarea           0.141576\n",
       "semi-furnished    -0.028909\n",
       "unfurnished       -0.062323\n",
       "areaperbedroom     1.000000\n",
       "bbratio            0.225242\n",
       "Name: areaperbedroom, dtype: float64"
      ]
     },
     "execution_count": 43,
     "metadata": {},
     "output_type": "execute_result"
    }
   ],
   "source": [
    "dg=df.corr()\n",
    "dg[\"areaperbedroom\"]"
   ]
  },
  {
   "cell_type": "markdown",
   "metadata": {},
   "source": [
    "# Model Building Using Linear regression"
   ]
  },
  {
   "cell_type": "code",
   "execution_count": 44,
   "metadata": {},
   "outputs": [],
   "source": [
    "from sklearn.preprocessing import StandardScaler\n",
    "from sklearn.model_selection import train_test_split"
   ]
  },
  {
   "cell_type": "markdown",
   "metadata": {},
   "source": [
    "# Note--\n",
    "**- Always transform target variable as well, as before i have not done this i am getting mean square error on 11399473.843**\n",
    "\n",
    "**- So i do df_train and df_test and split in X_train and X_test later**"
   ]
  },
  {
   "cell_type": "code",
   "execution_count": 45,
   "metadata": {},
   "outputs": [],
   "source": [
    "df_train,df_test=train_test_split(df,train_size=0.8,random_state=100)"
   ]
  },
  {
   "cell_type": "code",
   "execution_count": 46,
   "metadata": {},
   "outputs": [
    {
     "name": "stdout",
     "output_type": "stream",
     "text": [
      "(436, 16)\n",
      "(109, 16)\n"
     ]
    }
   ],
   "source": [
    "print(df_train.shape)\n",
    "print(df_test.shape)\n"
   ]
  },
  {
   "cell_type": "code",
   "execution_count": 47,
   "metadata": {},
   "outputs": [
    {
     "data": {
      "text/plain": [
       "Index(['price', 'area', 'bedrooms', 'bathrooms', 'stories', 'mainroad',\n",
       "       'guestroom', 'basement', 'hotwaterheating', 'airconditioning',\n",
       "       'parking', 'prefarea', 'semi-furnished', 'unfurnished',\n",
       "       'areaperbedroom', 'bbratio'],\n",
       "      dtype='object')"
      ]
     },
     "execution_count": 47,
     "metadata": {},
     "output_type": "execute_result"
    }
   ],
   "source": [
    "cols=df_train.columns\n",
    "cols"
   ]
  },
  {
   "cell_type": "code",
   "execution_count": 48,
   "metadata": {},
   "outputs": [],
   "source": [
    "#instanatize the standardscaler\n",
    "scaler=StandardScaler()"
   ]
  },
  {
   "cell_type": "code",
   "execution_count": 49,
   "metadata": {},
   "outputs": [
    {
     "data": {
      "text/html": [
       "<div>\n",
       "<style scoped>\n",
       "    .dataframe tbody tr th:only-of-type {\n",
       "        vertical-align: middle;\n",
       "    }\n",
       "\n",
       "    .dataframe tbody tr th {\n",
       "        vertical-align: top;\n",
       "    }\n",
       "\n",
       "    .dataframe thead tr th {\n",
       "        text-align: left;\n",
       "    }\n",
       "</style>\n",
       "<table border=\"1\" class=\"dataframe\">\n",
       "  <thead>\n",
       "    <tr>\n",
       "      <th></th>\n",
       "      <th>price</th>\n",
       "      <th>area</th>\n",
       "      <th>bedrooms</th>\n",
       "      <th>bathrooms</th>\n",
       "      <th>stories</th>\n",
       "      <th>mainroad</th>\n",
       "      <th>guestroom</th>\n",
       "      <th>basement</th>\n",
       "      <th>hotwaterheating</th>\n",
       "      <th>airconditioning</th>\n",
       "      <th>parking</th>\n",
       "      <th>prefarea</th>\n",
       "      <th>semi-furnished</th>\n",
       "      <th>unfurnished</th>\n",
       "      <th>areaperbedroom</th>\n",
       "      <th>bbratio</th>\n",
       "    </tr>\n",
       "  </thead>\n",
       "  <tbody>\n",
       "    <tr>\n",
       "      <th>0</th>\n",
       "      <td>-0.690341</td>\n",
       "      <td>-1.155610</td>\n",
       "      <td>0.018551</td>\n",
       "      <td>-0.547076</td>\n",
       "      <td>0.228123</td>\n",
       "      <td>0.410975</td>\n",
       "      <td>-0.441045</td>\n",
       "      <td>1.402136</td>\n",
       "      <td>-0.219265</td>\n",
       "      <td>-0.676900</td>\n",
       "      <td>-0.801822</td>\n",
       "      <td>1.857143</td>\n",
       "      <td>-0.834565</td>\n",
       "      <td>1.416650</td>\n",
       "      <td>-1.150484</td>\n",
       "      <td>-0.674788</td>\n",
       "    </tr>\n",
       "    <tr>\n",
       "      <th>1</th>\n",
       "      <td>-0.054413</td>\n",
       "      <td>-1.036986</td>\n",
       "      <td>-1.329518</td>\n",
       "      <td>-0.547076</td>\n",
       "      <td>0.228123</td>\n",
       "      <td>0.410975</td>\n",
       "      <td>2.267343</td>\n",
       "      <td>1.402136</td>\n",
       "      <td>-0.219265</td>\n",
       "      <td>-0.676900</td>\n",
       "      <td>-0.801822</td>\n",
       "      <td>1.857143</td>\n",
       "      <td>1.198230</td>\n",
       "      <td>-0.705891</td>\n",
       "      <td>-0.450234</td>\n",
       "      <td>0.398179</td>\n",
       "    </tr>\n",
       "    <tr>\n",
       "      <th>2</th>\n",
       "      <td>-0.129228</td>\n",
       "      <td>-0.288736</td>\n",
       "      <td>1.366621</td>\n",
       "      <td>-0.547076</td>\n",
       "      <td>0.228123</td>\n",
       "      <td>0.410975</td>\n",
       "      <td>-0.441045</td>\n",
       "      <td>-0.713197</td>\n",
       "      <td>-0.219265</td>\n",
       "      <td>1.477322</td>\n",
       "      <td>1.468272</td>\n",
       "      <td>-0.538462</td>\n",
       "      <td>1.198230</td>\n",
       "      <td>-0.705891</td>\n",
       "      <td>-0.831343</td>\n",
       "      <td>-1.211272</td>\n",
       "    </tr>\n",
       "    <tr>\n",
       "      <th>3</th>\n",
       "      <td>2.650154</td>\n",
       "      <td>0.391076</td>\n",
       "      <td>1.366621</td>\n",
       "      <td>3.461749</td>\n",
       "      <td>0.228123</td>\n",
       "      <td>0.410975</td>\n",
       "      <td>2.267343</td>\n",
       "      <td>1.402136</td>\n",
       "      <td>4.560702</td>\n",
       "      <td>-0.676900</td>\n",
       "      <td>1.468272</td>\n",
       "      <td>-0.538462</td>\n",
       "      <td>1.198230</td>\n",
       "      <td>-0.705891</td>\n",
       "      <td>-0.369675</td>\n",
       "      <td>2.007630</td>\n",
       "    </tr>\n",
       "    <tr>\n",
       "      <th>4</th>\n",
       "      <td>1.030407</td>\n",
       "      <td>0.582701</td>\n",
       "      <td>0.018551</td>\n",
       "      <td>1.457336</td>\n",
       "      <td>1.398261</td>\n",
       "      <td>0.410975</td>\n",
       "      <td>-0.441045</td>\n",
       "      <td>-0.713197</td>\n",
       "      <td>-0.219265</td>\n",
       "      <td>1.477322</td>\n",
       "      <td>-0.801822</td>\n",
       "      <td>1.857143</td>\n",
       "      <td>-0.834565</td>\n",
       "      <td>-0.705891</td>\n",
       "      <td>0.423528</td>\n",
       "      <td>1.471146</td>\n",
       "    </tr>\n",
       "  </tbody>\n",
       "</table>\n",
       "</div>"
      ],
      "text/plain": [
       "      price      area  bedrooms bathrooms   stories  mainroad guestroom  \\\n",
       "0 -0.690341 -1.155610  0.018551 -0.547076  0.228123  0.410975 -0.441045   \n",
       "1 -0.054413 -1.036986 -1.329518 -0.547076  0.228123  0.410975  2.267343   \n",
       "2 -0.129228 -0.288736  1.366621 -0.547076  0.228123  0.410975 -0.441045   \n",
       "3  2.650154  0.391076  1.366621  3.461749  0.228123  0.410975  2.267343   \n",
       "4  1.030407  0.582701  0.018551  1.457336  1.398261  0.410975 -0.441045   \n",
       "\n",
       "   basement hotwaterheating airconditioning   parking  prefarea  \\\n",
       "0  1.402136       -0.219265       -0.676900 -0.801822  1.857143   \n",
       "1  1.402136       -0.219265       -0.676900 -0.801822  1.857143   \n",
       "2 -0.713197       -0.219265        1.477322  1.468272 -0.538462   \n",
       "3  1.402136        4.560702       -0.676900  1.468272 -0.538462   \n",
       "4 -0.713197       -0.219265        1.477322 -0.801822  1.857143   \n",
       "\n",
       "  semi-furnished unfurnished areaperbedroom   bbratio  \n",
       "0      -0.834565    1.416650      -1.150484 -0.674788  \n",
       "1       1.198230   -0.705891      -0.450234  0.398179  \n",
       "2       1.198230   -0.705891      -0.831343 -1.211272  \n",
       "3       1.198230   -0.705891      -0.369675  2.007630  \n",
       "4      -0.834565   -0.705891       0.423528  1.471146  "
      ]
     },
     "execution_count": 49,
     "metadata": {},
     "output_type": "execute_result"
    }
   ],
   "source": [
    "df_train=pd.DataFrame(scaler.fit_transform(df_train),columns=[cols])\n",
    "df_train.head()"
   ]
  },
  {
   "cell_type": "code",
   "execution_count": 50,
   "metadata": {},
   "outputs": [
    {
     "data": {
      "text/html": [
       "<div>\n",
       "<style scoped>\n",
       "    .dataframe tbody tr th:only-of-type {\n",
       "        vertical-align: middle;\n",
       "    }\n",
       "\n",
       "    .dataframe tbody tr th {\n",
       "        vertical-align: top;\n",
       "    }\n",
       "\n",
       "    .dataframe thead tr th {\n",
       "        text-align: left;\n",
       "    }\n",
       "</style>\n",
       "<table border=\"1\" class=\"dataframe\">\n",
       "  <thead>\n",
       "    <tr>\n",
       "      <th></th>\n",
       "      <th>price</th>\n",
       "      <th>area</th>\n",
       "      <th>bedrooms</th>\n",
       "      <th>bathrooms</th>\n",
       "      <th>stories</th>\n",
       "      <th>mainroad</th>\n",
       "      <th>guestroom</th>\n",
       "      <th>basement</th>\n",
       "      <th>hotwaterheating</th>\n",
       "      <th>airconditioning</th>\n",
       "      <th>parking</th>\n",
       "      <th>prefarea</th>\n",
       "      <th>semi-furnished</th>\n",
       "      <th>unfurnished</th>\n",
       "      <th>areaperbedroom</th>\n",
       "      <th>bbratio</th>\n",
       "    </tr>\n",
       "  </thead>\n",
       "  <tbody>\n",
       "    <tr>\n",
       "      <th>0</th>\n",
       "      <td>0.562812</td>\n",
       "      <td>0.391076</td>\n",
       "      <td>0.018551</td>\n",
       "      <td>1.457336</td>\n",
       "      <td>2.568399</td>\n",
       "      <td>0.410975</td>\n",
       "      <td>-0.441045</td>\n",
       "      <td>-0.713197</td>\n",
       "      <td>-0.219265</td>\n",
       "      <td>1.477322</td>\n",
       "      <td>-0.801822</td>\n",
       "      <td>-0.538462</td>\n",
       "      <td>-0.834565</td>\n",
       "      <td>1.416650</td>\n",
       "      <td>0.250015</td>\n",
       "      <td>1.471146</td>\n",
       "    </tr>\n",
       "    <tr>\n",
       "      <th>1</th>\n",
       "      <td>-0.578118</td>\n",
       "      <td>-0.462111</td>\n",
       "      <td>0.018551</td>\n",
       "      <td>1.457336</td>\n",
       "      <td>0.228123</td>\n",
       "      <td>0.410975</td>\n",
       "      <td>-0.441045</td>\n",
       "      <td>-0.713197</td>\n",
       "      <td>-0.219265</td>\n",
       "      <td>-0.676900</td>\n",
       "      <td>1.468272</td>\n",
       "      <td>-0.538462</td>\n",
       "      <td>1.198230</td>\n",
       "      <td>-0.705891</td>\n",
       "      <td>-0.522531</td>\n",
       "      <td>1.471146</td>\n",
       "    </tr>\n",
       "    <tr>\n",
       "      <th>2</th>\n",
       "      <td>1.329667</td>\n",
       "      <td>0.391076</td>\n",
       "      <td>0.018551</td>\n",
       "      <td>1.457336</td>\n",
       "      <td>2.568399</td>\n",
       "      <td>0.410975</td>\n",
       "      <td>2.267343</td>\n",
       "      <td>-0.713197</td>\n",
       "      <td>-0.219265</td>\n",
       "      <td>1.477322</td>\n",
       "      <td>0.333225</td>\n",
       "      <td>-0.538462</td>\n",
       "      <td>-0.834565</td>\n",
       "      <td>-0.705891</td>\n",
       "      <td>0.250015</td>\n",
       "      <td>1.471146</td>\n",
       "    </tr>\n",
       "    <tr>\n",
       "      <th>3</th>\n",
       "      <td>1.011703</td>\n",
       "      <td>-0.521423</td>\n",
       "      <td>0.018551</td>\n",
       "      <td>1.457336</td>\n",
       "      <td>0.228123</td>\n",
       "      <td>0.410975</td>\n",
       "      <td>-0.441045</td>\n",
       "      <td>1.402136</td>\n",
       "      <td>-0.219265</td>\n",
       "      <td>1.477322</td>\n",
       "      <td>0.333225</td>\n",
       "      <td>-0.538462</td>\n",
       "      <td>1.198230</td>\n",
       "      <td>-0.705891</td>\n",
       "      <td>-0.576238</td>\n",
       "      <td>1.471146</td>\n",
       "    </tr>\n",
       "    <tr>\n",
       "      <th>4</th>\n",
       "      <td>-0.877379</td>\n",
       "      <td>-0.936611</td>\n",
       "      <td>-1.329518</td>\n",
       "      <td>-0.547076</td>\n",
       "      <td>-0.942015</td>\n",
       "      <td>0.410975</td>\n",
       "      <td>2.267343</td>\n",
       "      <td>1.402136</td>\n",
       "      <td>-0.219265</td>\n",
       "      <td>-0.676900</td>\n",
       "      <td>-0.801822</td>\n",
       "      <td>-0.538462</td>\n",
       "      <td>-0.834565</td>\n",
       "      <td>1.416650</td>\n",
       "      <td>-0.313903</td>\n",
       "      <td>0.398179</td>\n",
       "    </tr>\n",
       "  </tbody>\n",
       "</table>\n",
       "</div>"
      ],
      "text/plain": [
       "      price      area  bedrooms bathrooms   stories  mainroad guestroom  \\\n",
       "0  0.562812  0.391076  0.018551  1.457336  2.568399  0.410975 -0.441045   \n",
       "1 -0.578118 -0.462111  0.018551  1.457336  0.228123  0.410975 -0.441045   \n",
       "2  1.329667  0.391076  0.018551  1.457336  2.568399  0.410975  2.267343   \n",
       "3  1.011703 -0.521423  0.018551  1.457336  0.228123  0.410975 -0.441045   \n",
       "4 -0.877379 -0.936611 -1.329518 -0.547076 -0.942015  0.410975  2.267343   \n",
       "\n",
       "   basement hotwaterheating airconditioning   parking  prefarea  \\\n",
       "0 -0.713197       -0.219265        1.477322 -0.801822 -0.538462   \n",
       "1 -0.713197       -0.219265       -0.676900  1.468272 -0.538462   \n",
       "2 -0.713197       -0.219265        1.477322  0.333225 -0.538462   \n",
       "3  1.402136       -0.219265        1.477322  0.333225 -0.538462   \n",
       "4  1.402136       -0.219265       -0.676900 -0.801822 -0.538462   \n",
       "\n",
       "  semi-furnished unfurnished areaperbedroom   bbratio  \n",
       "0      -0.834565    1.416650       0.250015  1.471146  \n",
       "1       1.198230   -0.705891      -0.522531  1.471146  \n",
       "2      -0.834565   -0.705891       0.250015  1.471146  \n",
       "3       1.198230   -0.705891      -0.576238  1.471146  \n",
       "4      -0.834565    1.416650      -0.313903  0.398179  "
      ]
     },
     "execution_count": 50,
     "metadata": {},
     "output_type": "execute_result"
    }
   ],
   "source": [
    "df_test=pd.DataFrame(scaler.transform(df_test),columns=[cols])\n",
    "df_test.head()"
   ]
  },
  {
   "cell_type": "code",
   "execution_count": 51,
   "metadata": {},
   "outputs": [],
   "source": [
    "## Find X_train and Y_train\n",
    "y_train=df_train.pop(\"price\")\n",
    "X_train=df_train"
   ]
  },
  {
   "cell_type": "code",
   "execution_count": 52,
   "metadata": {},
   "outputs": [
    {
     "data": {
      "text/html": [
       "<div>\n",
       "<style scoped>\n",
       "    .dataframe tbody tr th:only-of-type {\n",
       "        vertical-align: middle;\n",
       "    }\n",
       "\n",
       "    .dataframe tbody tr th {\n",
       "        vertical-align: top;\n",
       "    }\n",
       "\n",
       "    .dataframe thead tr th {\n",
       "        text-align: left;\n",
       "    }\n",
       "</style>\n",
       "<table border=\"1\" class=\"dataframe\">\n",
       "  <thead>\n",
       "    <tr>\n",
       "      <th></th>\n",
       "      <th>area</th>\n",
       "      <th>bedrooms</th>\n",
       "      <th>bathrooms</th>\n",
       "      <th>stories</th>\n",
       "      <th>mainroad</th>\n",
       "      <th>guestroom</th>\n",
       "      <th>basement</th>\n",
       "      <th>hotwaterheating</th>\n",
       "      <th>airconditioning</th>\n",
       "      <th>parking</th>\n",
       "      <th>prefarea</th>\n",
       "      <th>semi-furnished</th>\n",
       "      <th>unfurnished</th>\n",
       "      <th>areaperbedroom</th>\n",
       "      <th>bbratio</th>\n",
       "    </tr>\n",
       "  </thead>\n",
       "  <tbody>\n",
       "    <tr>\n",
       "      <th>0</th>\n",
       "      <td>-1.155610</td>\n",
       "      <td>0.018551</td>\n",
       "      <td>-0.547076</td>\n",
       "      <td>0.228123</td>\n",
       "      <td>0.410975</td>\n",
       "      <td>-0.441045</td>\n",
       "      <td>1.402136</td>\n",
       "      <td>-0.219265</td>\n",
       "      <td>-0.676900</td>\n",
       "      <td>-0.801822</td>\n",
       "      <td>1.857143</td>\n",
       "      <td>-0.834565</td>\n",
       "      <td>1.416650</td>\n",
       "      <td>-1.150484</td>\n",
       "      <td>-0.674788</td>\n",
       "    </tr>\n",
       "    <tr>\n",
       "      <th>1</th>\n",
       "      <td>-1.036986</td>\n",
       "      <td>-1.329518</td>\n",
       "      <td>-0.547076</td>\n",
       "      <td>0.228123</td>\n",
       "      <td>0.410975</td>\n",
       "      <td>2.267343</td>\n",
       "      <td>1.402136</td>\n",
       "      <td>-0.219265</td>\n",
       "      <td>-0.676900</td>\n",
       "      <td>-0.801822</td>\n",
       "      <td>1.857143</td>\n",
       "      <td>1.198230</td>\n",
       "      <td>-0.705891</td>\n",
       "      <td>-0.450234</td>\n",
       "      <td>0.398179</td>\n",
       "    </tr>\n",
       "    <tr>\n",
       "      <th>2</th>\n",
       "      <td>-0.288736</td>\n",
       "      <td>1.366621</td>\n",
       "      <td>-0.547076</td>\n",
       "      <td>0.228123</td>\n",
       "      <td>0.410975</td>\n",
       "      <td>-0.441045</td>\n",
       "      <td>-0.713197</td>\n",
       "      <td>-0.219265</td>\n",
       "      <td>1.477322</td>\n",
       "      <td>1.468272</td>\n",
       "      <td>-0.538462</td>\n",
       "      <td>1.198230</td>\n",
       "      <td>-0.705891</td>\n",
       "      <td>-0.831343</td>\n",
       "      <td>-1.211272</td>\n",
       "    </tr>\n",
       "    <tr>\n",
       "      <th>3</th>\n",
       "      <td>0.391076</td>\n",
       "      <td>1.366621</td>\n",
       "      <td>3.461749</td>\n",
       "      <td>0.228123</td>\n",
       "      <td>0.410975</td>\n",
       "      <td>2.267343</td>\n",
       "      <td>1.402136</td>\n",
       "      <td>4.560702</td>\n",
       "      <td>-0.676900</td>\n",
       "      <td>1.468272</td>\n",
       "      <td>-0.538462</td>\n",
       "      <td>1.198230</td>\n",
       "      <td>-0.705891</td>\n",
       "      <td>-0.369675</td>\n",
       "      <td>2.007630</td>\n",
       "    </tr>\n",
       "    <tr>\n",
       "      <th>4</th>\n",
       "      <td>0.582701</td>\n",
       "      <td>0.018551</td>\n",
       "      <td>1.457336</td>\n",
       "      <td>1.398261</td>\n",
       "      <td>0.410975</td>\n",
       "      <td>-0.441045</td>\n",
       "      <td>-0.713197</td>\n",
       "      <td>-0.219265</td>\n",
       "      <td>1.477322</td>\n",
       "      <td>-0.801822</td>\n",
       "      <td>1.857143</td>\n",
       "      <td>-0.834565</td>\n",
       "      <td>-0.705891</td>\n",
       "      <td>0.423528</td>\n",
       "      <td>1.471146</td>\n",
       "    </tr>\n",
       "  </tbody>\n",
       "</table>\n",
       "</div>"
      ],
      "text/plain": [
       "       area  bedrooms bathrooms   stories  mainroad guestroom  basement  \\\n",
       "0 -1.155610  0.018551 -0.547076  0.228123  0.410975 -0.441045  1.402136   \n",
       "1 -1.036986 -1.329518 -0.547076  0.228123  0.410975  2.267343  1.402136   \n",
       "2 -0.288736  1.366621 -0.547076  0.228123  0.410975 -0.441045 -0.713197   \n",
       "3  0.391076  1.366621  3.461749  0.228123  0.410975  2.267343  1.402136   \n",
       "4  0.582701  0.018551  1.457336  1.398261  0.410975 -0.441045 -0.713197   \n",
       "\n",
       "  hotwaterheating airconditioning   parking  prefarea semi-furnished  \\\n",
       "0       -0.219265       -0.676900 -0.801822  1.857143      -0.834565   \n",
       "1       -0.219265       -0.676900 -0.801822  1.857143       1.198230   \n",
       "2       -0.219265        1.477322  1.468272 -0.538462       1.198230   \n",
       "3        4.560702       -0.676900  1.468272 -0.538462       1.198230   \n",
       "4       -0.219265        1.477322 -0.801822  1.857143      -0.834565   \n",
       "\n",
       "  unfurnished areaperbedroom   bbratio  \n",
       "0    1.416650      -1.150484 -0.674788  \n",
       "1   -0.705891      -0.450234  0.398179  \n",
       "2   -0.705891      -0.831343 -1.211272  \n",
       "3   -0.705891      -0.369675  2.007630  \n",
       "4   -0.705891       0.423528  1.471146  "
      ]
     },
     "execution_count": 52,
     "metadata": {},
     "output_type": "execute_result"
    }
   ],
   "source": [
    "X_train.head()"
   ]
  },
  {
   "cell_type": "code",
   "execution_count": 53,
   "metadata": {},
   "outputs": [
    {
     "data": {
      "text/html": [
       "<div>\n",
       "<style scoped>\n",
       "    .dataframe tbody tr th:only-of-type {\n",
       "        vertical-align: middle;\n",
       "    }\n",
       "\n",
       "    .dataframe tbody tr th {\n",
       "        vertical-align: top;\n",
       "    }\n",
       "\n",
       "    .dataframe thead tr th {\n",
       "        text-align: left;\n",
       "    }\n",
       "</style>\n",
       "<table border=\"1\" class=\"dataframe\">\n",
       "  <thead>\n",
       "    <tr>\n",
       "      <th></th>\n",
       "      <th>price</th>\n",
       "    </tr>\n",
       "  </thead>\n",
       "  <tbody>\n",
       "    <tr>\n",
       "      <th>0</th>\n",
       "      <td>-0.690341</td>\n",
       "    </tr>\n",
       "    <tr>\n",
       "      <th>1</th>\n",
       "      <td>-0.054413</td>\n",
       "    </tr>\n",
       "    <tr>\n",
       "      <th>2</th>\n",
       "      <td>-0.129228</td>\n",
       "    </tr>\n",
       "    <tr>\n",
       "      <th>3</th>\n",
       "      <td>2.650154</td>\n",
       "    </tr>\n",
       "    <tr>\n",
       "      <th>4</th>\n",
       "      <td>1.030407</td>\n",
       "    </tr>\n",
       "  </tbody>\n",
       "</table>\n",
       "</div>"
      ],
      "text/plain": [
       "      price\n",
       "0 -0.690341\n",
       "1 -0.054413\n",
       "2 -0.129228\n",
       "3  2.650154\n",
       "4  1.030407"
      ]
     },
     "execution_count": 53,
     "metadata": {},
     "output_type": "execute_result"
    }
   ],
   "source": [
    "y_train.head()"
   ]
  },
  {
   "cell_type": "code",
   "execution_count": 20,
   "metadata": {},
   "outputs": [],
   "source": [
    "## Find X_test and y_test\n",
    "y_test=df_test.pop(\"price\")\n",
    "X_test=df_test"
   ]
  },
  {
   "cell_type": "code",
   "execution_count": 22,
   "metadata": {},
   "outputs": [
    {
     "data": {
      "text/html": [
       "<div>\n",
       "<style scoped>\n",
       "    .dataframe tbody tr th:only-of-type {\n",
       "        vertical-align: middle;\n",
       "    }\n",
       "\n",
       "    .dataframe tbody tr th {\n",
       "        vertical-align: top;\n",
       "    }\n",
       "\n",
       "    .dataframe thead tr th {\n",
       "        text-align: left;\n",
       "    }\n",
       "</style>\n",
       "<table border=\"1\" class=\"dataframe\">\n",
       "  <thead>\n",
       "    <tr>\n",
       "      <th></th>\n",
       "      <th>area</th>\n",
       "      <th>bedrooms</th>\n",
       "      <th>bathrooms</th>\n",
       "      <th>stories</th>\n",
       "      <th>mainroad</th>\n",
       "      <th>guestroom</th>\n",
       "      <th>basement</th>\n",
       "      <th>hotwaterheating</th>\n",
       "      <th>airconditioning</th>\n",
       "      <th>parking</th>\n",
       "      <th>prefarea</th>\n",
       "      <th>semi-furnished</th>\n",
       "      <th>unfurnished</th>\n",
       "      <th>areaperbedroom</th>\n",
       "      <th>bbratio</th>\n",
       "    </tr>\n",
       "  </thead>\n",
       "  <tbody>\n",
       "    <tr>\n",
       "      <th>0</th>\n",
       "      <td>0.391076</td>\n",
       "      <td>0.018551</td>\n",
       "      <td>1.457336</td>\n",
       "      <td>2.568399</td>\n",
       "      <td>0.410975</td>\n",
       "      <td>-0.441045</td>\n",
       "      <td>-0.713197</td>\n",
       "      <td>-0.219265</td>\n",
       "      <td>1.477322</td>\n",
       "      <td>-0.801822</td>\n",
       "      <td>-0.538462</td>\n",
       "      <td>-0.834565</td>\n",
       "      <td>1.416650</td>\n",
       "      <td>0.250015</td>\n",
       "      <td>1.471146</td>\n",
       "    </tr>\n",
       "    <tr>\n",
       "      <th>1</th>\n",
       "      <td>-0.462111</td>\n",
       "      <td>0.018551</td>\n",
       "      <td>1.457336</td>\n",
       "      <td>0.228123</td>\n",
       "      <td>0.410975</td>\n",
       "      <td>-0.441045</td>\n",
       "      <td>-0.713197</td>\n",
       "      <td>-0.219265</td>\n",
       "      <td>-0.676900</td>\n",
       "      <td>1.468272</td>\n",
       "      <td>-0.538462</td>\n",
       "      <td>1.198230</td>\n",
       "      <td>-0.705891</td>\n",
       "      <td>-0.522531</td>\n",
       "      <td>1.471146</td>\n",
       "    </tr>\n",
       "    <tr>\n",
       "      <th>2</th>\n",
       "      <td>0.391076</td>\n",
       "      <td>0.018551</td>\n",
       "      <td>1.457336</td>\n",
       "      <td>2.568399</td>\n",
       "      <td>0.410975</td>\n",
       "      <td>2.267343</td>\n",
       "      <td>-0.713197</td>\n",
       "      <td>-0.219265</td>\n",
       "      <td>1.477322</td>\n",
       "      <td>0.333225</td>\n",
       "      <td>-0.538462</td>\n",
       "      <td>-0.834565</td>\n",
       "      <td>-0.705891</td>\n",
       "      <td>0.250015</td>\n",
       "      <td>1.471146</td>\n",
       "    </tr>\n",
       "    <tr>\n",
       "      <th>3</th>\n",
       "      <td>-0.521423</td>\n",
       "      <td>0.018551</td>\n",
       "      <td>1.457336</td>\n",
       "      <td>0.228123</td>\n",
       "      <td>0.410975</td>\n",
       "      <td>-0.441045</td>\n",
       "      <td>1.402136</td>\n",
       "      <td>-0.219265</td>\n",
       "      <td>1.477322</td>\n",
       "      <td>0.333225</td>\n",
       "      <td>-0.538462</td>\n",
       "      <td>1.198230</td>\n",
       "      <td>-0.705891</td>\n",
       "      <td>-0.576238</td>\n",
       "      <td>1.471146</td>\n",
       "    </tr>\n",
       "    <tr>\n",
       "      <th>4</th>\n",
       "      <td>-0.936611</td>\n",
       "      <td>-1.329518</td>\n",
       "      <td>-0.547076</td>\n",
       "      <td>-0.942015</td>\n",
       "      <td>0.410975</td>\n",
       "      <td>2.267343</td>\n",
       "      <td>1.402136</td>\n",
       "      <td>-0.219265</td>\n",
       "      <td>-0.676900</td>\n",
       "      <td>-0.801822</td>\n",
       "      <td>-0.538462</td>\n",
       "      <td>-0.834565</td>\n",
       "      <td>1.416650</td>\n",
       "      <td>-0.313903</td>\n",
       "      <td>0.398179</td>\n",
       "    </tr>\n",
       "  </tbody>\n",
       "</table>\n",
       "</div>"
      ],
      "text/plain": [
       "       area  bedrooms bathrooms   stories  mainroad guestroom  basement  \\\n",
       "0  0.391076  0.018551  1.457336  2.568399  0.410975 -0.441045 -0.713197   \n",
       "1 -0.462111  0.018551  1.457336  0.228123  0.410975 -0.441045 -0.713197   \n",
       "2  0.391076  0.018551  1.457336  2.568399  0.410975  2.267343 -0.713197   \n",
       "3 -0.521423  0.018551  1.457336  0.228123  0.410975 -0.441045  1.402136   \n",
       "4 -0.936611 -1.329518 -0.547076 -0.942015  0.410975  2.267343  1.402136   \n",
       "\n",
       "  hotwaterheating airconditioning   parking  prefarea semi-furnished  \\\n",
       "0       -0.219265        1.477322 -0.801822 -0.538462      -0.834565   \n",
       "1       -0.219265       -0.676900  1.468272 -0.538462       1.198230   \n",
       "2       -0.219265        1.477322  0.333225 -0.538462      -0.834565   \n",
       "3       -0.219265        1.477322  0.333225 -0.538462       1.198230   \n",
       "4       -0.219265       -0.676900 -0.801822 -0.538462      -0.834565   \n",
       "\n",
       "  unfurnished areaperbedroom   bbratio  \n",
       "0    1.416650       0.250015  1.471146  \n",
       "1   -0.705891      -0.522531  1.471146  \n",
       "2   -0.705891       0.250015  1.471146  \n",
       "3   -0.705891      -0.576238  1.471146  \n",
       "4    1.416650      -0.313903  0.398179  "
      ]
     },
     "execution_count": 22,
     "metadata": {},
     "output_type": "execute_result"
    }
   ],
   "source": [
    "X_test.head()"
   ]
  },
  {
   "cell_type": "code",
   "execution_count": 54,
   "metadata": {},
   "outputs": [
    {
     "data": {
      "text/html": [
       "<div>\n",
       "<style scoped>\n",
       "    .dataframe tbody tr th:only-of-type {\n",
       "        vertical-align: middle;\n",
       "    }\n",
       "\n",
       "    .dataframe tbody tr th {\n",
       "        vertical-align: top;\n",
       "    }\n",
       "\n",
       "    .dataframe thead tr th {\n",
       "        text-align: left;\n",
       "    }\n",
       "</style>\n",
       "<table border=\"1\" class=\"dataframe\">\n",
       "  <thead>\n",
       "    <tr>\n",
       "      <th></th>\n",
       "      <th>price</th>\n",
       "    </tr>\n",
       "  </thead>\n",
       "  <tbody>\n",
       "    <tr>\n",
       "      <th>0</th>\n",
       "      <td>0.562812</td>\n",
       "    </tr>\n",
       "    <tr>\n",
       "      <th>1</th>\n",
       "      <td>-0.578118</td>\n",
       "    </tr>\n",
       "    <tr>\n",
       "      <th>2</th>\n",
       "      <td>1.329667</td>\n",
       "    </tr>\n",
       "    <tr>\n",
       "      <th>3</th>\n",
       "      <td>1.011703</td>\n",
       "    </tr>\n",
       "    <tr>\n",
       "      <th>4</th>\n",
       "      <td>-0.877379</td>\n",
       "    </tr>\n",
       "  </tbody>\n",
       "</table>\n",
       "</div>"
      ],
      "text/plain": [
       "      price\n",
       "0  0.562812\n",
       "1 -0.578118\n",
       "2  1.329667\n",
       "3  1.011703\n",
       "4 -0.877379"
      ]
     },
     "execution_count": 54,
     "metadata": {},
     "output_type": "execute_result"
    }
   ],
   "source": [
    "y_test.head()"
   ]
  },
  {
   "cell_type": "markdown",
   "metadata": {},
   "source": [
    "# PCA"
   ]
  },
  {
   "cell_type": "code",
   "execution_count": 55,
   "metadata": {},
   "outputs": [],
   "source": [
    "from sklearn.decomposition import PCA"
   ]
  },
  {
   "cell_type": "markdown",
   "metadata": {},
   "source": [
    "#### As in upgrad ques. it is given to take N_compnent as 6, for more detail check PCA.ipynb"
   ]
  },
  {
   "cell_type": "code",
   "execution_count": 56,
   "metadata": {},
   "outputs": [],
   "source": [
    "pca = PCA(n_components=6,random_state=100)"
   ]
  },
  {
   "cell_type": "code",
   "execution_count": 57,
   "metadata": {},
   "outputs": [],
   "source": [
    "model_pca=pca.fit_transform(X_train)"
   ]
  },
  {
   "cell_type": "code",
   "execution_count": 58,
   "metadata": {},
   "outputs": [
    {
     "data": {
      "text/plain": [
       "(436, 6)"
      ]
     },
     "execution_count": 58,
     "metadata": {},
     "output_type": "execute_result"
    }
   ],
   "source": [
    "model_pca.shape"
   ]
  },
  {
   "cell_type": "markdown",
   "metadata": {},
   "source": [
    "**Note we dont do fit_transorm in test_pca**\n",
    "- As we never transform the data"
   ]
  },
  {
   "cell_type": "code",
   "execution_count": 59,
   "metadata": {},
   "outputs": [
    {
     "data": {
      "text/plain": [
       "(109, 6)"
      ]
     },
     "execution_count": 59,
     "metadata": {},
     "output_type": "execute_result"
    }
   ],
   "source": [
    "test_pca=pca.transform(X_test)\n",
    "test_pca.shape"
   ]
  },
  {
   "cell_type": "code",
   "execution_count": 60,
   "metadata": {},
   "outputs": [
    {
     "data": {
      "text/plain": [
       "<AxesSubplot:>"
      ]
     },
     "execution_count": 60,
     "metadata": {},
     "output_type": "execute_result"
    },
    {
     "data": {
      "image/png": "[encoded data removed]",
      "text/plain": [
       "<Figure size 432x288 with 2 Axes>"
      ]
     },
     "metadata": {
      "needs_background": "light"
     },
     "output_type": "display_data"
    }
   ],
   "source": [
    "# checking corealtion again\n",
    "cormat=np.corrcoef(model_pca.T)\n",
    "sns.heatmap(cormat)"
   ]
  },
  {
   "cell_type": "markdown",
   "metadata": {},
   "source": [
    "#### Applying Linear model as given in upgrad question"
   ]
  },
  {
   "cell_type": "code",
   "execution_count": 61,
   "metadata": {},
   "outputs": [],
   "source": [
    "from sklearn.linear_model import LinearRegression\n",
    "lr=LinearRegression()"
   ]
  },
  {
   "cell_type": "code",
   "execution_count": 62,
   "metadata": {},
   "outputs": [],
   "source": [
    "lr_model=lr.fit(model_pca,y_train)"
   ]
  },
  {
   "cell_type": "markdown",
   "metadata": {},
   "source": [
    "#### Check mean sqaured error"
   ]
  },
  {
   "cell_type": "code",
   "execution_count": 63,
   "metadata": {},
   "outputs": [],
   "source": [
    "from sklearn.metrics import mean_squared_error"
   ]
  },
  {
   "cell_type": "code",
   "execution_count": 64,
   "metadata": {},
   "outputs": [],
   "source": [
    "y_pred=lr_model.predict(test_pca)"
   ]
  },
  {
   "cell_type": "code",
   "execution_count": 65,
   "metadata": {},
   "outputs": [
    {
     "data": {
      "text/plain": [
       "0.38372286399924577"
      ]
     },
     "execution_count": 65,
     "metadata": {},
     "output_type": "execute_result"
    }
   ],
   "source": [
    "mean_squared_error(y_pred,y_test)"
   ]
  },
  {
   "cell_type": "code",
   "execution_count": null,
   "metadata": {},
   "outputs": [],
   "source": []
  },
  {
   "cell_type": "code",
   "execution_count": null,
   "metadata": {},
   "outputs": [],
   "source": []
  }
 ],
 "metadata": {
  "kernelspec": {
   "display_name": "Python 3",
   "language": "python",
   "name": "python3"
  },
  "language_info": {
   "codemirror_mode": {
    "name": "ipython",
    "version": 3
   },
   "file_extension": ".py",
   "mimetype": "text/x-python",
   "name": "python",
   "nbconvert_exporter": "python",
   "pygments_lexer": "ipython3",
   "version": "3.7.6"
  }
 },
 "nbformat": 4,
 "nbformat_minor": 4
}
